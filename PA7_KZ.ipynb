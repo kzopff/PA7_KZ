{
 "cells": [
  {
   "cell_type": "markdown",
   "metadata": {},
   "source": [
    "# Programming Assignment 7\n",
    "---\n",
    "**Author:** Katie Zopff    \n",
    "**Version:** 1.0  \n",
    "**Semester:** Fall 2020  \n",
    "\n",
    "This *notebook* contains my solution to **Programming Assignment 7**"
   ]
  },
  {
   "cell_type": "markdown",
   "metadata": {},
   "source": [
    "**A)**"
   ]
  },
  {
   "cell_type": "code",
   "execution_count": 72,
   "metadata": {},
   "outputs": [],
   "source": [
    "import itertools as it"
   ]
  },
  {
   "cell_type": "code",
   "execution_count": 36,
   "metadata": {},
   "outputs": [],
   "source": [
    "def threeletterstrings(word):\n",
    "    strings = list(it.permutations(word, 3))\n",
    "    for i in strings:\n",
    "        a, b, c = i\n",
    "        print(a+b+c, end=\" \")\n",
    "    return"
   ]
  },
  {
   "cell_type": "code",
   "execution_count": 74,
   "metadata": {
    "scrolled": false
   },
   "outputs": [
    {
     "name": "stdout",
     "output_type": "stream",
     "text": [
      "Enter a five letter word:  bathe\n",
      "bat bah bae bta bth bte bha bht bhe bea bet beh abt abh abe atb ath ate ahb aht ahe aeb aet aeh tba tbh tbe tab tah tae thb tha the teb tea teh hba hbt hbe hab hat hae htb hta hte heb hea het eba ebt ebh eab eat eah etb eta eth ehb eha eht \n",
      "\n",
      "Enter a five letter word: baits\n",
      "bai bat bas bia bit bis bta bti bts bsa bsi bst abi abt abs aib ait ais atb ati ats asb asi ast iba ibt ibs iab iat ias itb ita its isb isa ist tba tbi tbs tab tai tas tib tia tis tsb tsa tsi sba sbi sbt sab sai sat sib sia sit stb sta sti \n",
      "\n",
      "Enter a five letter word: bat\n",
      "Word must be five letters long!\n",
      "\n",
      "\n",
      "Enter a five letter word: house\n",
      "hou hos hoe huo hus hue hso hsu hse heo heu hes ohu ohs ohe ouh ous oue osh osu ose oeh oeu oes uho uhs uhe uoh uos uoe ush uso use ueh ueo ues sho shu she soh sou soe suh suo sue seh seo seu eho ehu ehs eoh eou eos euh euo eus esh eso esu \n",
      "\n",
      "Enter a five letter word: 0\n"
     ]
    }
   ],
   "source": [
    "x = input(\"Enter a five letter word:  \")\n",
    "while x != \"0\":\n",
    "    if len(x) == 5:\n",
    "        threeletterstrings(x)\n",
    "        print(\"\\n\")\n",
    "        x = input(\"Enter a five letter word: \")\n",
    "    else:\n",
    "        print(\"Word must be five letters long!\")\n",
    "        print(\"\\n\")\n",
    "        x = input(\"Enter a five letter word: \")"
   ]
  },
  {
   "cell_type": "markdown",
   "metadata": {},
   "source": [
    "**B)**"
   ]
  },
  {
   "cell_type": "code",
   "execution_count": 51,
   "metadata": {},
   "outputs": [],
   "source": [
    "numbers = {'zero':0, 'one':1, 'two':2, 'three':3, 'four':4, 'five':5, 'six':6, 'seven':7, 'eight':8, 'nine':9}"
   ]
  },
  {
   "cell_type": "code",
   "execution_count": 75,
   "metadata": {},
   "outputs": [
    {
     "name": "stdout",
     "output_type": "stream",
     "text": [
      "Enter a simple arithmetic expression in words: five times seven\n",
      "5 x 7 = 35\n",
      "\n",
      "\n",
      "Enter a simple arithmetic expression in words: two minus one\n",
      "2 - 1 = 1\n",
      "\n",
      "\n",
      "Enter a simple arithmetic expression in words: three plus seven\n",
      "3 + 7 = 10\n",
      "\n",
      "\n",
      "Enter a simple arithmetic expression in words: eight divided by two\n",
      "8 ÷ 2 = 4.0\n",
      "\n",
      "\n",
      "Enter a simple arithmetic expression in words: seven greater than eight\n",
      "I cannot evaluate this expression!\n",
      "\n",
      "\n",
      "Enter a simple arithmetic expression in words: 0\n"
     ]
    }
   ],
   "source": [
    "y = input(\"Enter a simple arithmetic expression in words: \")\n",
    "while y != \"0\":\n",
    "    new = y.split()\n",
    "    if len(new) == 3:\n",
    "        a, b, c = new\n",
    "        if b == \"plus\":\n",
    "            print(numbers[a], \"+\", numbers[c], \"=\", (numbers[a] + numbers[c]))\n",
    "        elif b == \"minus\":\n",
    "            print(numbers[a], \"-\", numbers[c], \"=\", (numbers[a] - numbers[c]))\n",
    "        elif b == \"times\":\n",
    "            print(numbers[a], \"x\", numbers[c], \"=\", (numbers[a] * numbers[c]))\n",
    "        else: \n",
    "            print(\"I cannot evaluate this expression!\")\n",
    "    elif len(new) == 4:\n",
    "        a, b, c, d = new\n",
    "        if b == \"divided\" and c == \"by\":\n",
    "            print(numbers[a], \"÷\", numbers[d], \"=\", (numbers[a]/numbers[d]))\n",
    "        else: \n",
    "            print(\"I cannot evaluate this expression!\")\n",
    "    else: \n",
    "        print(\"I cannot evaluate this expression!\")\n",
    "    print(\"\\n\")\n",
    "    y = input(\"Enter a simple arithmetic expression in words: \")"
   ]
  }
 ],
 "metadata": {
  "kernelspec": {
   "display_name": "Python 3",
   "language": "python",
   "name": "python3"
  },
  "language_info": {
   "codemirror_mode": {
    "name": "ipython",
    "version": 3
   },
   "file_extension": ".py",
   "mimetype": "text/x-python",
   "name": "python",
   "nbconvert_exporter": "python",
   "pygments_lexer": "ipython3",
   "version": "3.8.3"
  }
 },
 "nbformat": 4,
 "nbformat_minor": 4
}
